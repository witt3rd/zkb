{
 "cells": [
  {
   "cell_type": "markdown",
   "metadata": {},
   "source": [
    "# ZKB Scratch Notebook\n"
   ]
  },
  {
   "cell_type": "markdown",
   "metadata": {},
   "source": [
    "## Notes\n"
   ]
  },
  {
   "cell_type": "code",
   "execution_count": 1,
   "metadata": {},
   "outputs": [
    {
     "name": "stdout",
     "output_type": "stream",
     "text": [
      "Metadata: {'title': 'Example Note', 'tags': ['example', 'test']}\n",
      "Content: This is an example note. It links to [[another_note]] and [[yet_another_note]].\n",
      "Links: [{'filename': 'another_note', 'heading': None, 'display_text': 'another_note'}, {'filename': 'yet_another_note', 'heading': None, 'display_text': 'yet_another_note'}]\n"
     ]
    }
   ],
   "source": [
    "from pathlib import Path\n",
    "\n",
    "from zkb.note import Note\n",
    "\n",
    "note = Note(\n",
    "    Path(\"tests/data/notes/example_note.md\"),\n",
    ")\n",
    "print(f\"Metadata: {note.metadata}\")\n",
    "print(f\"Content: {note.content}\")\n",
    "print(f\"Links: {note.links}\")"
   ]
  },
  {
   "cell_type": "markdown",
   "metadata": {},
   "source": [
    "## ZKB\n"
   ]
  },
  {
   "cell_type": "code",
   "execution_count": 2,
   "metadata": {},
   "outputs": [
    {
     "name": "stdout",
     "output_type": "stream",
     "text": [
      "Orphaned Notes:\n",
      "- example_note\n",
      "Broken Links:\n",
      "- example_note -> yet_another_note?\n",
      "Backlinks to example_note:\n",
      "Backlinks to another_note:\n",
      " - example_note\n"
     ]
    }
   ],
   "source": [
    "from zkb import ZKB\n",
    "\n",
    "zkb = ZKB(\n",
    "    data_dir=\"tests/data\",\n",
    "    db_path=\"tests/db/zkb.db\",\n",
    ")\n",
    "\n",
    "zkb.scan_notes()\n",
    "\n",
    "orphans = zkb.find_orphaned_notes()\n",
    "print(\"Orphaned Notes:\")\n",
    "for orphan in orphans:\n",
    "    print(f\"- {orphan}\")\n",
    "\n",
    "broken_links = zkb.find_broken_links()\n",
    "print(\"Broken Links:\")\n",
    "for filename, link in broken_links:\n",
    "    print(f\"- {filename} -> {link}?\")\n",
    "\n",
    "filename = \"example_note\"\n",
    "backlinks = zkb.find_backlinks(filename)\n",
    "print(f\"Backlinks to {filename}:\")\n",
    "for backlink in backlinks:\n",
    "    print(f\" - {backlink}\")\n",
    "\n",
    "filename = \"another_note\"\n",
    "backlinks = zkb.find_backlinks(filename)\n",
    "print(f\"Backlinks to {filename}:\")\n",
    "for backlink in backlinks:\n",
    "    print(f\" - {backlink}\")"
   ]
  }
 ],
 "metadata": {
  "kernelspec": {
   "display_name": ".venv",
   "language": "python",
   "name": "python3"
  },
  "language_info": {
   "codemirror_mode": {
    "name": "ipython",
    "version": 3
   },
   "file_extension": ".py",
   "mimetype": "text/x-python",
   "name": "python",
   "nbconvert_exporter": "python",
   "pygments_lexer": "ipython3",
   "version": "3.11.9"
  }
 },
 "nbformat": 4,
 "nbformat_minor": 2
}
