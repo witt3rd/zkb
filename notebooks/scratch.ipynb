{
 "cells": [
  {
   "cell_type": "markdown",
   "metadata": {},
   "source": [
    "# ZKB Scratch Notebook\n"
   ]
  },
  {
   "cell_type": "markdown",
   "metadata": {},
   "source": [
    "## Notes\n"
   ]
  },
  {
   "cell_type": "code",
   "execution_count": 1,
   "metadata": {},
   "outputs": [
    {
     "name": "stdout",
     "output_type": "stream",
     "text": [
      "Metadata: {'title': 'Example Note', 'tags': ['example', 'test']}\n",
      "Content: This is an example note. It links to [[another_note]] and [[yet_another_note]].\n",
      "Links: [{'filename': 'another_note', 'heading': None, 'display_text': 'another_note'}, {'filename': 'yet_another_note', 'heading': None, 'display_text': 'yet_another_note'}]\n"
     ]
    }
   ],
   "source": [
    "from pathlib import Path\n",
    "\n",
    "from zkb.note import Note\n",
    "\n",
    "note = Note(\n",
    "    Path(\"tests/data/notes/example_note.md\"),\n",
    ")\n",
    "print(f\"Metadata: {note.metadata}\")\n",
    "print(f\"Content: {note.content}\")\n",
    "print(f\"Links: {note.links}\")"
   ]
  },
  {
   "cell_type": "markdown",
   "metadata": {},
   "source": [
    "## ZKB\n"
   ]
  },
  {
   "cell_type": "code",
   "execution_count": 2,
   "metadata": {},
   "outputs": [
    {
     "name": "stderr",
     "output_type": "stream",
     "text": [
      "/home/donald/src/witt3rd/zkb/.venv/lib/python3.11/site-packages/sentence_transformers/cross_encoder/CrossEncoder.py:11: TqdmWarning: IProgress not found. Please update jupyter and ipywidgets. See https://ipywidgets.readthedocs.io/en/stable/user_install.html\n",
      "  from tqdm.autonotebook import tqdm, trange\n",
      "\u001b[32m2024-07-28 05:39:22.785\u001b[0m | \u001b[1mINFO    \u001b[0m | \u001b[36mqa_store.qa_kb\u001b[0m:\u001b[36m__init__\u001b[0m:\u001b[36m106\u001b[0m - \u001b[1mQuestionAnswerKB initialized for collection 'zkb'.\u001b[0m\n"
     ]
    }
   ],
   "source": [
    "from zkb import ZKB\n",
    "\n",
    "zkb = ZKB(\n",
    "    data_dir=\"notebooks/data\",\n",
    "    db_dir=\"notebooks/db\",\n",
    ")"
   ]
  },
  {
   "cell_type": "code",
   "execution_count": 3,
   "metadata": {},
   "outputs": [
    {
     "name": "stdout",
     "output_type": "stream",
     "text": [
      "Orphaned Notes:\n",
      "Broken Links:\n",
      "Backlinks to example_note:\n",
      "Backlinks to another_note:\n"
     ]
    }
   ],
   "source": [
    "zkb.scan_notes()\n",
    "\n",
    "orphans = zkb.find_orphaned_notes()\n",
    "print(\"Orphaned Notes:\")\n",
    "for orphan in orphans:\n",
    "    print(f\"- {orphan}\")\n",
    "\n",
    "broken_links = zkb.find_broken_links()\n",
    "print(\"Broken Links:\")\n",
    "for filename, link in broken_links:\n",
    "    print(f\"- {filename} -> {link}?\")\n",
    "\n",
    "filename = \"example_note\"\n",
    "backlinks = zkb.find_backlinks(filename)\n",
    "print(f\"Backlinks to {filename}:\")\n",
    "for backlink in backlinks:\n",
    "    print(f\" - {backlink}\")\n",
    "\n",
    "filename = \"another_note\"\n",
    "backlinks = zkb.find_backlinks(filename)\n",
    "print(f\"Backlinks to {filename}:\")\n",
    "for backlink in backlinks:\n",
    "    print(f\" - {backlink}\")"
   ]
  },
  {
   "cell_type": "code",
   "execution_count": null,
   "metadata": {},
   "outputs": [],
   "source": [
    "# Create a new note\n",
    "new_note = zkb.create_note(\n",
    "    \"my-new-note\", \"This is the content of my new note.\", {\"title\": \"My New Note\"}\n",
    ")\n",
    "print(new_note.file_path)\n",
    "\n",
    "# Read a note\n",
    "existing_note = zkb.read_note(\"my-new-note\")\n",
    "\n",
    "# Update a note\n",
    "updated_note = zkb.update_note(\n",
    "    \"my-new-note\", \"This is the updated content.\", {\"title\": \"Updated Note\"}\n",
    ")\n",
    "\n",
    "# Delete a note\n",
    "zkb.delete_note(\"my-new-note\")\n",
    "\n",
    "# Search for notes\n",
    "search_results = zkb.search_notes(\"content\")\n",
    "print(search_results)"
   ]
  },
  {
   "cell_type": "code",
   "execution_count": null,
   "metadata": {},
   "outputs": [],
   "source": [
    "filename = \"qa_test_note\"\n",
    "content = \"The capital of France is Paris. The capital of Italy is Rome.\"\n",
    "zkb.create_note(filename, content)\n",
    "\n",
    "# Generate QA pairs\n",
    "note = zkb.read_note(filename)\n",
    "zkb.generate_and_index_qa_pairs(note)\n",
    "\n",
    "# Query the QA knowledge base\n",
    "results = zkb.query_qa(\"What is the capital of France?\")\n",
    "print(results)\n",
    "assert len(results) > 0\n",
    "assert any(\"Paris\" in result[\"answer\"] for result in results)\n",
    "\n",
    "# Clean up\n",
    "zkb.delete_note(filename)"
   ]
  },
  {
   "cell_type": "code",
   "execution_count": 2,
   "metadata": {},
   "outputs": [
    {
     "name": "stdout",
     "output_type": "stream",
     "text": [
      "Search results: []\n"
     ]
    }
   ],
   "source": [
    "results = zkb.search_notes(\"\")\n",
    "print(f\"Search results: {results}\")\n",
    "assert len(results) == 0"
   ]
  }
 ],
 "metadata": {
  "kernelspec": {
   "display_name": ".venv",
   "language": "python",
   "name": "python3"
  },
  "language_info": {
   "codemirror_mode": {
    "name": "ipython",
    "version": 3
   },
   "file_extension": ".py",
   "mimetype": "text/x-python",
   "name": "python",
   "nbconvert_exporter": "python",
   "pygments_lexer": "ipython3",
   "version": "3.11.9"
  }
 },
 "nbformat": 4,
 "nbformat_minor": 2
}
